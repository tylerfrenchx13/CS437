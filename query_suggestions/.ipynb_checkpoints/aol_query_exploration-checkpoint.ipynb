{
 "cells": [
  {
   "cell_type": "markdown",
   "metadata": {},
   "source": [
    "# Query Suggestion Exploration"
   ]
  },
  {
   "cell_type": "markdown",
   "metadata": {},
   "source": [
    "## Import Libraries"
   ]
  },
  {
   "cell_type": "code",
   "execution_count": 1,
   "metadata": {},
   "outputs": [],
   "source": [
    "import pandas as pd\n",
    "from nltk.tokenize import word_tokenize\n",
    "import numpy as np\n",
    "import re\n",
    "import string\n",
    "import time as timer\n",
    "regex = re.compile('[%s]' % re.escape(string.punctuation))"
   ]
  },
  {
   "cell_type": "markdown",
   "metadata": {},
   "source": [
    "## Import query log data"
   ]
  },
  {
   "cell_type": "code",
   "execution_count": 2,
   "metadata": {},
   "outputs": [],
   "source": [
    "files = ['data/Clean-Data-01.txt', 'data/Clean-Data-02.txt', 'data/Clean-Data-03.txt', 'data/Clean-Data-04.txt', 'data/Clean-Data-05.txt']"
   ]
  },
  {
   "cell_type": "code",
   "execution_count": 3,
   "metadata": {},
   "outputs": [],
   "source": [
    "ql = pd.concat([pd.read_csv(f, sep='\\t') for f in files])"
   ]
  },
  {
   "cell_type": "code",
   "execution_count": 4,
   "metadata": {},
   "outputs": [],
   "source": [
    "ql = ql.sort_values(by=['AnonID', 'QueryTime'])"
   ]
  },
  {
   "cell_type": "code",
   "execution_count": 5,
   "metadata": {},
   "outputs": [],
   "source": [
    "ql = ql.reset_index(drop=True)"
   ]
  },
  {
   "cell_type": "code",
   "execution_count": 6,
   "metadata": {},
   "outputs": [],
   "source": [
    "ql = ql.dropna()"
   ]
  },
  {
   "cell_type": "code",
   "execution_count": 7,
   "metadata": {},
   "outputs": [],
   "source": [
    "ql['QueryTime'] = pd.to_datetime(ql['QueryTime'])"
   ]
  },
  {
   "cell_type": "markdown",
   "metadata": {},
   "source": [
    "## Define some constants\n",
    "\n",
    "For the given formula, we need to find values of some constants"
   ]
  },
  {
   "cell_type": "markdown",
   "metadata": {},
   "source": [
    "### max_freq\n",
    "\n",
    "Maximum frequency of any query in QL"
   ]
  },
  {
   "cell_type": "code",
   "execution_count": 8,
   "metadata": {},
   "outputs": [],
   "source": [
    "max_freq_list = ql['Query'].value_counts()"
   ]
  },
  {
   "cell_type": "code",
   "execution_count": 9,
   "metadata": {},
   "outputs": [],
   "source": [
    "max_freq = max_freq_list.max()"
   ]
  },
  {
   "cell_type": "markdown",
   "metadata": {},
   "source": [
    "### max_session_length"
   ]
  },
  {
   "cell_type": "code",
   "execution_count": 11,
   "metadata": {},
   "outputs": [],
   "source": [
    "max_session_length = 0\n",
    "'''\n",
    "for s in ql['AnonID'].unique():\n",
    "    session = ql[ql['AnonID'] == s]\n",
    "    length = session.iloc[len(session)-1]['QueryTime'] - session.iloc[0]['QueryTime']\n",
    "    length =  length / np.timedelta64(1, 's')\n",
    "    if length > max_session_length:\n",
    "        max_session_length = length\n",
    "'''\n",
    "max_session_length = 7946741.0"
   ]
  },
  {
   "cell_type": "markdown",
   "metadata": {},
   "source": [
    "## Pre-process some stuff\n",
    "\n",
    "### Inverted index\n",
    "\n",
    "Maps from queries to the index of the query log"
   ]
  },
  {
   "cell_type": "code",
   "execution_count": 12,
   "metadata": {},
   "outputs": [],
   "source": [
    "queryInvertedIndex = {}\n",
    "def createIndex(ngram, index, id, time):\n",
    "    global queryInvertedIndex\n",
    "    if ngram in queryInvertedIndex:\n",
    "        queryInvertedIndex[ngram].append((index,id,time))\n",
    "        return 1\n",
    "    else:\n",
    "        queryInvertedIndex[ngram] = [(index,id,time)]\n",
    "        return 0"
   ]
  },
  {
   "cell_type": "code",
   "execution_count": 13,
   "metadata": {},
   "outputs": [
    {
     "name": "stdout",
     "output_type": "stream",
     "text": [
      " \n"
     ]
    }
   ],
   "source": [
    "ql.apply(lambda x: createIndex(str(x['Query']),x.name,x['AnonID'],x['QueryTime']), axis=1)\n",
    "print(\" \")"
   ]
  },
  {
   "cell_type": "markdown",
   "metadata": {},
   "source": [
    "### QueryCandidates\n",
    "\n",
    "Maps from a query to all candidates that contain the query + 1 word"
   ]
  },
  {
   "cell_type": "code",
   "execution_count": 14,
   "metadata": {},
   "outputs": [],
   "source": [
    "queryCandidates = {}\n",
    "def createCandidates(q, cq):\n",
    "    global queryCandidates\n",
    "    if q == cq:\n",
    "        return\n",
    "    if q in queryCandidates:\n",
    "        queryCandidates[q].add(cq)\n",
    "    else:\n",
    "        queryCandidates[q] = set([cq])"
   ]
  },
  {
   "cell_type": "code",
   "execution_count": 15,
   "metadata": {},
   "outputs": [
    {
     "name": "stdout",
     "output_type": "stream",
     "text": [
      " \n"
     ]
    }
   ],
   "source": [
    "ql.apply(lambda x: createCandidates(str(x['Query']).rsplit(' ', 1)[0], str(x['Query'])) , axis=1)\n",
    "print(\" \")"
   ]
  },
  {
   "cell_type": "markdown",
   "metadata": {},
   "source": [
    "## Creating the Query Ranking Score Function"
   ]
  },
  {
   "cell_type": "code",
   "execution_count": 16,
   "metadata": {},
   "outputs": [],
   "source": [
    "def Freq(CQ):\n",
    "    return len(queryInvertedIndex[CQ])/max_freq"
   ]
  },
  {
   "cell_type": "code",
   "execution_count": 33,
   "metadata": {},
   "outputs": [],
   "source": [
    "q_sessions = {}\n",
    "CQ_sessions = {}\n",
    "common_sessions = {}\n",
    "def Mod(CQ, q):\n",
    "    global q_sessions\n",
    "    global CQ_sessions\n",
    "    global common_sessions\n",
    "    q_sessions = {}\n",
    "    common_sessions = {}\n",
    "    CQ_sessions={}\n",
    "    \n",
    "    start_time = timer.time()\n",
    "    if q in queryInvertedIndex:\n",
    "        #print(len(queryInvertedIndex[q]))\n",
    "        for query in queryInvertedIndex[q]:\n",
    "            q_sessions[query[1]] = query[2]\n",
    "    #print(\"1: \" + str(timer.time()-start_time))     \n",
    "    if len(q_sessions) == 0:\n",
    "        \n",
    "        return 0\n",
    "    \n",
    "    start_time = timer.time()    \n",
    "    CQ_sessions = {}\n",
    "    if CQ in queryInvertedIndex:\n",
    "        for query in queryInvertedIndex[CQ]:\n",
    "            if query[1] not in CQ_sessions:\n",
    "                CQ_sessions[query[1]] = query[2]\n",
    "    #print(\"2: \" + str(timer.time()-start_time))     \n",
    "\n",
    "    common_sessions = q_sessions.keys() & CQ_sessions.keys()\n",
    "    common_sessions = [session for session in common_sessions if (CQ_sessions[session]-q_sessions[session])/np.timedelta64(1, 's') > 0]\n",
    "    return len(common_sessions)/len(q_sessions)"
   ]
  },
  {
   "cell_type": "code",
   "execution_count": 34,
   "metadata": {},
   "outputs": [],
   "source": [
    "def Time(CQ, q):\n",
    "    if len(common_sessions) == 0:\n",
    "        return 0\n",
    "    min_time = 1000000000\n",
    "    for session in common_sessions:\n",
    "        time_diff = (CQ_sessions[session]-q_sessions[session])/np.timedelta64(1, 's')\n",
    "        if time_diff < min_time:\n",
    "            min_time = time_diff\n",
    "    return min_time/max_session_length"
   ]
  },
  {
   "cell_type": "code",
   "execution_count": 35,
   "metadata": {},
   "outputs": [],
   "source": [
    "def Score(CQ, q):\n",
    "    freq = Freq(CQ)\n",
    "    mod = Mod(CQ, q)\n",
    "    time = Time(CQ, q)\n",
    "    val = (freq+mod+time)/(1-min([freq, mod, time]))\n",
    "    return val"
   ]
  },
  {
   "cell_type": "code",
   "execution_count": 51,
   "metadata": {},
   "outputs": [],
   "source": [
    "def CreateCandidates(q):\n",
    "    q=regex.sub('', q.lower())\n",
    "    candidate_scores = {}\n",
    "    if q in queryCandidates:\n",
    "        for CQ in queryCandidates[q]:\n",
    "            candidate_scores[CQ] = Score(CQ, q)\n",
    "        return sorted(candidate_scores, key=candidate_scores.get, reverse=True)\n",
    "    else:\n",
    "        return []"
   ]
  },
  {
   "cell_type": "code",
   "execution_count": 52,
   "metadata": {},
   "outputs": [],
   "source": [
    "pre_calculated_suggestions = {}\n",
    "for q in queryCandidates:\n",
    "    pre_calculated_suggestions[q] = CreateCandidates(q)"
   ]
  },
  {
   "cell_type": "code",
   "execution_count": 57,
   "metadata": {},
   "outputs": [],
   "source": [
    "def GetCandidates(q, n=10):\n",
    "    return pre_calculated_suggestions[q][:n]"
   ]
  },
  {
   "cell_type": "code",
   "execution_count": 58,
   "metadata": {},
   "outputs": [
    {
     "data": {
      "text/plain": [
       "['tiger art',\n",
       " 'tiger woods',\n",
       " 'tiger animal',\n",
       " 'tiger bedding',\n",
       " 'tiger direct',\n",
       " 'tiger tattoos',\n",
       " 'tiger cartoon',\n",
       " 'tiger animals',\n",
       " 'tiger army',\n",
       " 'tiger stadium']"
      ]
     },
     "execution_count": 58,
     "metadata": {},
     "output_type": "execute_result"
    }
   ],
   "source": [
    "GetCandidates('tiger') "
   ]
  },
  {
   "cell_type": "code",
   "execution_count": 59,
   "metadata": {},
   "outputs": [
    {
     "data": {
      "text/plain": [
       "['google translator',\n",
       " 'google eth',\n",
       " 'google artists',\n",
       " 'google scholar',\n",
       " 'google auction',\n",
       " 'google calendar',\n",
       " 'google globe',\n",
       " 'google mail',\n",
       " 'google kids',\n",
       " 'google notifier']"
      ]
     },
     "execution_count": 59,
     "metadata": {},
     "output_type": "execute_result"
    }
   ],
   "source": [
    "GetCandidates('google')"
   ]
  },
  {
   "cell_type": "code",
   "execution_count": 61,
   "metadata": {},
   "outputs": [
    {
     "data": {
      "text/plain": [
       "['how to bodybuild',\n",
       " 'how to sail',\n",
       " 'how to projects',\n",
       " 'how to draw',\n",
       " 'how to kiss',\n",
       " 'how to masturbate',\n",
       " 'how to knit',\n",
       " 'how to dance',\n",
       " 'how to crochet',\n",
       " 'how to rap']"
      ]
     },
     "execution_count": 61,
     "metadata": {},
     "output_type": "execute_result"
    }
   ],
   "source": [
    "GetCandidates(\"how to\")"
   ]
  },
  {
   "cell_type": "markdown",
   "metadata": {},
   "source": [
    "## Save and Load Dictionary from file"
   ]
  },
  {
   "cell_type": "code",
   "execution_count": 66,
   "metadata": {},
   "outputs": [],
   "source": [
    "import pickle"
   ]
  },
  {
   "cell_type": "code",
   "execution_count": 67,
   "metadata": {},
   "outputs": [],
   "source": [
    "pickle.dump(pre_calculated_suggestions, open(\"query_suggestions.p\", \"wb\"))  # save it into a file"
   ]
  },
  {
   "cell_type": "code",
   "execution_count": 68,
   "metadata": {},
   "outputs": [],
   "source": [
    "pre_calculated_suggestions = pickle.load(open(\"query_suggestions.p\", \"rb\"))"
   ]
  },
  {
   "cell_type": "code",
   "execution_count": 71,
   "metadata": {},
   "outputs": [],
   "source": [
    "def GetCandidates(q, n=10):\n",
    "    return pre_calculated_suggestions[q][:n]"
   ]
  },
  {
   "cell_type": "code",
   "execution_count": 72,
   "metadata": {},
   "outputs": [
    {
     "data": {
      "text/plain": [
       "['what is the meaning of qiyas',\n",
       " 'what is the meaning of lina',\n",
       " 'what is the meaning of life',\n",
       " 'what is the meaning of work',\n",
       " 'what is the meaning of tender',\n",
       " 'what is the meaning of recipients',\n",
       " 'what is the meaning of substitution',\n",
       " 'what is the meaning of companion',\n",
       " 'what is the meaning of cool',\n",
       " 'what is the meaning of philosophy']"
      ]
     },
     "execution_count": 72,
     "metadata": {},
     "output_type": "execute_result"
    }
   ],
   "source": [
    "GetCandidates('what is the meaning of') "
   ]
  },
  {
   "cell_type": "markdown",
   "metadata": {},
   "source": [
    "## What's needed for a python file"
   ]
  },
  {
   "cell_type": "code",
   "execution_count": 73,
   "metadata": {},
   "outputs": [],
   "source": [
    "import pickle\n",
    "\n",
    "pre_calculated_suggestions = pickle.load(open(\"query_suggestions.p\", \"rb\"))\n",
    "\n",
    "def GetCandidates(q, n=10):\n",
    "    return pre_calculated_suggestions[q][:n]"
   ]
  },
  {
   "cell_type": "code",
   "execution_count": 74,
   "metadata": {},
   "outputs": [
    {
     "data": {
      "text/plain": [
       "['what is the meaning of qiyas',\n",
       " 'what is the meaning of lina',\n",
       " 'what is the meaning of life',\n",
       " 'what is the meaning of work',\n",
       " 'what is the meaning of tender',\n",
       " 'what is the meaning of recipients',\n",
       " 'what is the meaning of substitution',\n",
       " 'what is the meaning of companion',\n",
       " 'what is the meaning of cool',\n",
       " 'what is the meaning of philosophy']"
      ]
     },
     "execution_count": 74,
     "metadata": {},
     "output_type": "execute_result"
    }
   ],
   "source": [
    "GetCandidates('what is the meaning of') "
   ]
  },
  {
   "cell_type": "code",
   "execution_count": null,
   "metadata": {},
   "outputs": [],
   "source": []
  }
 ],
 "metadata": {
  "kernelspec": {
   "display_name": "Python 3",
   "language": "python",
   "name": "python3"
  },
  "language_info": {
   "codemirror_mode": {
    "name": "ipython",
    "version": 3
   },
   "file_extension": ".py",
   "mimetype": "text/x-python",
   "name": "python",
   "nbconvert_exporter": "python",
   "pygments_lexer": "ipython3",
   "version": "3.7.3"
  }
 },
 "nbformat": 4,
 "nbformat_minor": 2
}
