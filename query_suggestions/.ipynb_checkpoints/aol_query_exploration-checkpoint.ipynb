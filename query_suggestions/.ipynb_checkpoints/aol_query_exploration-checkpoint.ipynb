{
 "cells": [
  {
   "cell_type": "markdown",
   "metadata": {},
   "source": [
    "# Query Suggestion Exploration"
   ]
  },
  {
   "cell_type": "markdown",
   "metadata": {},
   "source": [
    "## Import Libraries"
   ]
  },
  {
   "cell_type": "code",
   "execution_count": 1,
   "metadata": {},
   "outputs": [],
   "source": [
    "import pandas as pd\n",
    "from nltk.tokenize import word_tokenize\n",
    "import numpy as np\n",
    "import re\n",
    "import string\n",
    "regex = re.compile('[%s]' % re.escape(string.punctuation))"
   ]
  },
  {
   "cell_type": "markdown",
   "metadata": {},
   "source": [
    "## Import query log data"
   ]
  },
  {
   "cell_type": "code",
   "execution_count": 2,
   "metadata": {},
   "outputs": [],
   "source": [
    "files = ['data/Clean-Data-01.txt', 'data/Clean-Data-02.txt', 'data/Clean-Data-03.txt', 'data/Clean-Data-04.txt', 'data/Clean-Data-05.txt']"
   ]
  },
  {
   "cell_type": "code",
   "execution_count": 3,
   "metadata": {},
   "outputs": [],
   "source": [
    "ql = pd.concat([pd.read_csv(f, sep='\\t') for f in files])"
   ]
  },
  {
   "cell_type": "code",
   "execution_count": 4,
   "metadata": {},
   "outputs": [],
   "source": [
    "ql = ql.sort_values(by=['AnonID', 'QueryTime'])"
   ]
  },
  {
   "cell_type": "code",
   "execution_count": 5,
   "metadata": {},
   "outputs": [],
   "source": [
    "ql = ql.reset_index(drop=True)"
   ]
  },
  {
   "cell_type": "code",
   "execution_count": 6,
   "metadata": {},
   "outputs": [],
   "source": [
    "ql = ql.dropna()"
   ]
  },
  {
   "cell_type": "code",
   "execution_count": 7,
   "metadata": {},
   "outputs": [],
   "source": [
    "ql['QueryTime'] = pd.to_datetime(ql['QueryTime'])"
   ]
  },
  {
   "cell_type": "markdown",
   "metadata": {},
   "source": [
    "## Define some constants\n",
    "\n",
    "For the given formula, we need to find values of some constants"
   ]
  },
  {
   "cell_type": "markdown",
   "metadata": {},
   "source": [
    "### max_freq\n",
    "\n",
    "Maximum frequency of any query in QL"
   ]
  },
  {
   "cell_type": "code",
   "execution_count": 8,
   "metadata": {},
   "outputs": [],
   "source": [
    "max_freq_list = ql['Query'].value_counts()"
   ]
  },
  {
   "cell_type": "code",
   "execution_count": 11,
   "metadata": {},
   "outputs": [],
   "source": [
    "max_freq = max_freq_list.max()"
   ]
  },
  {
   "cell_type": "markdown",
   "metadata": {},
   "source": [
    "### max_session_length"
   ]
  },
  {
   "cell_type": "code",
   "execution_count": 16,
   "metadata": {},
   "outputs": [],
   "source": [
    "max_session_length = 0\n",
    "'''\n",
    "for s in ql['AnonID'].unique():\n",
    "    session = ql[ql['AnonID'] == s]\n",
    "    length = session.iloc[len(session)-1]['QueryTime'] - session.iloc[0]['QueryTime']\n",
    "    length =  length / np.timedelta64(1, 's')\n",
    "    if length > max_session_length:\n",
    "        max_session_length = length\n",
    "'''\n",
    "max_session_length = 7946741.0"
   ]
  },
  {
   "cell_type": "markdown",
   "metadata": {},
   "source": [
    "## Pre-process some stuff\n",
    "\n",
    "### Inverted index\n",
    "\n",
    "Maps from queries to the index of the query log"
   ]
  },
  {
   "cell_type": "code",
   "execution_count": 17,
   "metadata": {},
   "outputs": [],
   "source": [
    "queryInvertedIndex = {}\n",
    "def createIndex(ngram, index, id, time):\n",
    "    global queryInvertedIndex\n",
    "    if ngram in queryInvertedIndex:\n",
    "        queryInvertedIndex[ngram].append((index,id,time))\n",
    "        return 1\n",
    "    else:\n",
    "        queryInvertedIndex[ngram] = [(index,id,time)]\n",
    "        return 0"
   ]
  },
  {
   "cell_type": "code",
   "execution_count": 18,
   "metadata": {},
   "outputs": [
    {
     "name": "stdout",
     "output_type": "stream",
     "text": [
      " \n"
     ]
    }
   ],
   "source": [
    "ql.apply(lambda x: createIndex(str(x['Query']),x.name,x['AnonID'],x['QueryTime']), axis=1)\n",
    "print(\" \")"
   ]
  },
  {
   "cell_type": "markdown",
   "metadata": {},
   "source": [
    "### QueryCandidates\n",
    "\n",
    "Maps from a query to all candidates that contain the query + 1 word"
   ]
  },
  {
   "cell_type": "code",
   "execution_count": 19,
   "metadata": {},
   "outputs": [],
   "source": [
    "queryCandidates = {}\n",
    "def createCandidates(q, cq):\n",
    "    global queryCandidates\n",
    "    if q == cq:\n",
    "        return\n",
    "    if q in queryCandidates:\n",
    "        queryCandidates[q].add(cq)\n",
    "    else:\n",
    "        queryCandidates[q] = set([cq])"
   ]
  },
  {
   "cell_type": "code",
   "execution_count": 20,
   "metadata": {},
   "outputs": [
    {
     "name": "stdout",
     "output_type": "stream",
     "text": [
      " \n"
     ]
    }
   ],
   "source": [
    "ql.apply(lambda x: createCandidates(str(x['Query']).rsplit(' ', 1)[0], str(x['Query'])) , axis=1)\n",
    "print(\" \")"
   ]
  },
  {
   "cell_type": "markdown",
   "metadata": {},
   "source": [
    "## Creating the Query Ranking Score Function"
   ]
  },
  {
   "cell_type": "code",
   "execution_count": 21,
   "metadata": {},
   "outputs": [],
   "source": [
    "def Freq(CQ):\n",
    "    return len(queryInvertedIndex[CQ])/max_freq"
   ]
  },
  {
   "cell_type": "code",
   "execution_count": 22,
   "metadata": {},
   "outputs": [],
   "source": [
    "q_sessions = {}\n",
    "CQ_sessions = {}\n",
    "common_sessions = {}\n",
    "def Mod(CQ, q):\n",
    "    global q_sessions\n",
    "    global CQ_sessions\n",
    "    global common_sessions\n",
    "    q_sessions = {}\n",
    "    if q in queryInvertedIndex:\n",
    "        for query in queryInvertedIndex[q]:\n",
    "            q_sessions[query[1]] = query[2]\n",
    "            \n",
    "    if len(q_sessions) == 0:\n",
    "        return 0\n",
    "    \n",
    "    CQ_sessions = {}\n",
    "    if CQ in queryInvertedIndex:\n",
    "        for query in queryInvertedIndex[CQ]:\n",
    "            if query[1] not in CQ_sessions:\n",
    "                CQ_sessions[query[1]] = query[2]\n",
    "\n",
    "    common_sessions = q_sessions.keys() & CQ_sessions.keys()\n",
    "\n",
    "    common_sessions = [session for session in common_sessions if (CQ_sessions[session]-q_sessions[session])/np.timedelta64(1, 's') > 0]\n",
    "    return len(common_sessions)/len(q_sessions)"
   ]
  },
  {
   "cell_type": "code",
   "execution_count": 23,
   "metadata": {},
   "outputs": [],
   "source": [
    "def Time(CQ, q):\n",
    "    if len(common_sessions) == 0:\n",
    "        return -1/max_session_length\n",
    "    min_time = 1000000000\n",
    "    for session in common_sessions:\n",
    "        time_diff = (CQ_sessions[session]-q_sessions[session])/np.timedelta64(1, 's')\n",
    "        if time_diff < min_time:\n",
    "            min_time = time_diff\n",
    "    return min_time/max_session_length"
   ]
  },
  {
   "cell_type": "code",
   "execution_count": 24,
   "metadata": {},
   "outputs": [],
   "source": [
    "def Score(CQ, q):\n",
    "    freq = Freq(CQ)\n",
    "    mod = Mod(CQ, q)\n",
    "    time = Time(CQ, q)\n",
    "    val = (freq+mod+time)/(1-min([freq, mod, time]))\n",
    "    return val"
   ]
  },
  {
   "cell_type": "code",
   "execution_count": 25,
   "metadata": {},
   "outputs": [],
   "source": [
    "def GetCandidates(q, n=10):\n",
    "    q=regex.sub('', q.lower())\n",
    "    candidate_scores = {}\n",
    "    if q in queryCandidates:\n",
    "        for CQ in queryCandidates[q]:\n",
    "            candidate_scores[CQ] = Score(CQ, q)\n",
    "        return sorted(candidate_scores, key=candidate_scores.get, reverse=True)[:n]\n",
    "    else:\n",
    "        return []"
   ]
  },
  {
   "cell_type": "code",
   "execution_count": 26,
   "metadata": {},
   "outputs": [
    {
     "data": {
      "text/plain": [
       "['tiger art',\n",
       " 'tiger woods',\n",
       " 'tiger animal',\n",
       " 'tiger bedding',\n",
       " 'tiger direct',\n",
       " 'tiger tattoos',\n",
       " 'tiger animals',\n",
       " 'tiger cartoon',\n",
       " 'tiger army',\n",
       " 'tiger stadium']"
      ]
     },
     "execution_count": 26,
     "metadata": {},
     "output_type": "execute_result"
    }
   ],
   "source": [
    "GetCandidates(\"tiger\")"
   ]
  },
  {
   "cell_type": "code",
   "execution_count": null,
   "metadata": {},
   "outputs": [],
   "source": []
  },
  {
   "cell_type": "code",
   "execution_count": null,
   "metadata": {},
   "outputs": [],
   "source": []
  }
 ],
 "metadata": {
  "kernelspec": {
   "display_name": "Python 3",
   "language": "python",
   "name": "python3"
  },
  "language_info": {
   "codemirror_mode": {
    "name": "ipython",
    "version": 3
   },
   "file_extension": ".py",
   "mimetype": "text/x-python",
   "name": "python",
   "nbconvert_exporter": "python",
   "pygments_lexer": "ipython3",
   "version": "3.7.3"
  }
 },
 "nbformat": 4,
 "nbformat_minor": 2
}
